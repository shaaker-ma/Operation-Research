{
 "cells": [
  {
   "cell_type": "markdown",
   "metadata": {},
   "source": [
    "![title](img/Tehran.png) \n",
    "\n",
    "#   <font color='red'><center>OR Assignment 2<center></font> \n",
    "#   <font color='red'><center>Title: OLED Lifetime<center></font> \n",
    "\n",
    "## <center>Teacher: Dr. Shokri<center>\n",
    "    \n",
    "### <center>Student Name: Mohammadali Shakerdargah<center>\n",
    "### <center>Student Number: 810196487<center>\n",
    "\n",
    "### <center>FALL 2020<center>"
   ]
  },
  {
   "cell_type": "markdown",
   "metadata": {},
   "source": [
    "### <font color='blue'>Purpose:</font>\n",
    "     Our objective is to minimize the amplitude of the electrical current flowing through the diodes which has a direct\n",
    "     impact on the lifetime of such a display.\n",
    "\n",
    "### <font color='blue'>Abstract:</font>\n",
    "    The optimization problem consist of finding a decomposition of an image into sub frames with special structural \n",
    "    properties that allow the display driver to lower the stress on the diodes. we have a 3 × 3 OLED matrix, which every \n",
    "    element of this presents how long(number milliseconds) that diode must be on. We represent the 3 × 3 matrix with the \n",
    "    sum of 3 other 3 × 3. we want to make these matrixes so that maximum value of matrix1 and maximum value of matrix 2 and \n",
    "    sum of all of the entries of third matrix would be minimum.\n",
    "    \n",
    "### <font color='blue'>Sections</font>\n",
    "    \n",
    "    Section A: OLED Lifetime\n",
    "        \n",
    "    Section B: OLED Lifetime, an optimization problem or not and Modeling\n",
    "    \n",
    "    Section C: Solution & Code"
   ]
  },
  {
   "cell_type": "markdown",
   "metadata": {},
   "source": [
    "##  <font color='green'>Section A:</font>\n",
    "### OLED Lifetime\n",
    "\n",
    "#### Source: Algorithms for longer OLED Lifetime article ,Fachbereich Mathematik\n",
    "    \n",
    "\n",
    "    Organic Light Emitting Diodes (OLEDs) have received growing interest recently as more and more commercial products are \n",
    "    equipped with such displays. Though they have many advantages over current technology like LCD, only small size \n",
    "    OLED displays have entered the marked yet.\n",
    "    Sample of an OLED device with integrated driver chip is shown bellow:\n",
    "\n",
    "![title](img/OLED.png) \n",
    "\n",
    "    Our objective is to minimize the amplitude of the electrical current flowing through the diodes which has a direct\n",
    "    impact on the lifetime of such a display. The optimization problem consist of finding a decomposition of an image \n",
    "    into sub frames with special structural properties that allow the display driver to lower the stress on the diodes.\n",
    "    For monochrome images, we present an algorithm that finds an optimal solution of this problem in quadratic time. Since \n",
    "    we have to find a good solution in real time, we consider an online version of the problem in which we have to take a \n",
    "    decision for one row based on a constant number of rows in the look ahead. In this framework his algorithm has a tight \n",
    "    competitive ratio. \n",
    "    \n",
    "    Schematic electrical circuit of a display is shown bellow:\n",
    "    \n",
    "![title](img/disp.png) \n",
    "    \n",
    "    A generalization of this algorithm computes near optimal solutions of real-world instances in real time. A (passive matrix)\n",
    "    OLED display has a matrix structure with n rows and m columns. At any crossover between a row and a column there is a \n",
    "    vertical diode which works as a pixel. . Consider the contacts for the rows and columns as switches. For the time the switch \n",
    "    of row i and column j is closed, an electrical current flows through the diode of pixel (𝑖, 𝑗) and it shines. Since high \n",
    "    amplitudes of the electrical current or high peaks of intensity respectively, are the major issues with respect to the\n",
    "    lifetime of the diodes we try to trade as much time as possible for it.\n",
    "    \n"
   ]
  },
  {
   "cell_type": "markdown",
   "metadata": {},
   "source": [
    "##  <font color='green'>Section B:</font>\n",
    "### OLED Lifetime, an INTEGER programming problem and Modeling\n",
    "#### Source:  Algorithms for longer OLED Lifetime article ,Fachbereich Mathematik\n",
    "#### Objective Function\n",
    "\n",
    "    In this section, we will briefly review the formal model presented in. Let R = (rij ) ∈ {0, . . . , ̺}n×m be the matrix \n",
    "    representing the image. To decompose R we need to find matrices F(1) = (f(1)ij ) and F(2) = (f(2)ij ) where F(1) \n",
    "    represents the singleline part and F(2) the two doubleline parts. More precisely,the i-th row of matrix F(2) \n",
    "    represents the doubleline covering rows i and i + 1. Since the overlay (addition) of the subframes must be equal \n",
    "    to the original image to get a valid decomposition of R, the matrices F(1) and F(2) must fulfill the constraint\n",
    "    f(1)ij + f(2)i−1 ,j + f(2) ij = rij for  i = 1, . . . , n and j = 1, . . . ,m, where we now and in the following\n",
    "    use the convention to simply omit terms with  indices running out of bounds. Since we cannot produce “negative” \n",
    "    light we require also non-negativity of the variables f(\u000b",
    ") ij ≥ 0. \n",
    "    \n",
    "    The goal is to find an integral decomposition that minimizes:\n",
    "    \n",
    "![title](img/eq1.png) \n",
    "\n",
    "    This problem can be formulated as an integer linear program by replacing the objective with respect to above equation:\n",
    "    \n",
    "![title](img/integerProgrammingProblem.png) \n",
    "    "
   ]
  },
  {
   "cell_type": "markdown",
   "metadata": {},
   "source": [
    "##  <font color='green'>Section C:</font>\n",
    "### Solution & Code\n",
    "    Just like above figure, We have the 3 × 3 matrix with the sum of 3 other 3 × 3. we want to make these matrixes so that\n",
    "    maximum value of matrix1 and maximum value of matrix 2 and sum of all of the entries of third matrix would be minimum."
   ]
  },
  {
   "cell_type": "code",
   "execution_count": 116,
   "metadata": {},
   "outputs": [],
   "source": [
    "# !pip install pulp\n",
    "from pulp import *"
   ]
  },
  {
   "cell_type": "markdown",
   "metadata": {},
   "source": [
    "    At first we would get the Matrix of OLED"
   ]
  },
  {
   "cell_type": "code",
   "execution_count": 112,
   "metadata": {},
   "outputs": [
    {
     "name": "stdout",
     "output_type": "stream",
     "text": [
      "8 7 10\n",
      "8 6 5\n",
      "6 8 7\n"
     ]
    }
   ],
   "source": [
    "OLED = [list(map(int,input().split())) for i in range(3)]"
   ]
  },
  {
   "cell_type": "markdown",
   "metadata": {},
   "source": [
    "    Now we will define our problem as a linear programming problem named \"OLED_Problem\" and define 3 matrixes"
   ]
  },
  {
   "cell_type": "code",
   "execution_count": 117,
   "metadata": {},
   "outputs": [
    {
     "data": {
      "text/plain": [
       "[[8, 7, 10], [8, 6, 5], [6, 8, 7]]"
      ]
     },
     "execution_count": 117,
     "metadata": {},
     "output_type": "execute_result"
    }
   ],
   "source": [
    "prob = LpProblem(\"OLED_Problem\",LpMinimize)\n",
    "matrix1 = []\n",
    "matrix2 = []\n",
    "matrix3 = [[], [], []]\n",
    "OLED"
   ]
  },
  {
   "cell_type": "code",
   "execution_count": 118,
   "metadata": {},
   "outputs": [
    {
     "name": "stdout",
     "output_type": "stream",
     "text": [
      "[X1, X2, X3]\n",
      "[Y1, Y2, Y3]\n"
     ]
    }
   ],
   "source": [
    "matrix1.clear()\n",
    "matrix2.clear()\n",
    "\n",
    "matrix1.append(LpVariable(name=\"X1\",lowBound=0,cat='Integer'))\n",
    "matrix1.append(LpVariable(name=\"X2\",lowBound=0,cat='Integer'))\n",
    "matrix1.append(LpVariable(name=\"X3\",lowBound=0,cat='Integer'))\n",
    "\n",
    "matrix2.append(LpVariable(name=\"Y1\",lowBound=0,cat='Integer'))\n",
    "matrix2.append(LpVariable(name=\"Y2\",lowBound=0,cat='Integer'))\n",
    "matrix2.append(LpVariable(name=\"Y3\",lowBound=0,cat='Integer'))\n",
    "\n",
    "print(matrix1)\n",
    "print(matrix2)"
   ]
  },
  {
   "cell_type": "markdown",
   "metadata": {},
   "source": [
    "    we will define 2 variables to help us solve the actual problem and make the constraint initiated in problem, then we will \n",
    "    use Zij as the entries of matrix3. we will use them as consumptions. \n",
    "    After defining it all we will solve this problem using .solve() method"
   ]
  },
  {
   "cell_type": "code",
   "execution_count": 119,
   "metadata": {},
   "outputs": [
    {
     "data": {
      "text/plain": [
       "OLED_Problem:\n",
       "MINIMIZE\n",
       "1*Z00 + 1*Z01 + 1*Z02 + 1*Z10 + 1*Z11 + 1*Z12 + 1*Z20 + 1*Z21 + 1*Z22 + 1*matrix1_max + 1*matrix2_max + 0\n",
       "SUBJECT TO\n",
       "_C1: - X1 + matrix1_max >= 0\n",
       "\n",
       "_C2: - Y1 + matrix2_max >= 0\n",
       "\n",
       "_C3: - X2 + matrix1_max >= 0\n",
       "\n",
       "_C4: - Y2 + matrix2_max >= 0\n",
       "\n",
       "_C5: - X3 + matrix1_max >= 0\n",
       "\n",
       "_C6: - Y3 + matrix2_max >= 0\n",
       "\n",
       "_C7: X1 + Y1 + Z00 = 8\n",
       "\n",
       "_C8: X1 + Y2 + Z01 = 7\n",
       "\n",
       "_C9: X1 + Y3 + Z02 = 10\n",
       "\n",
       "_C10: X2 + Y1 + Z10 = 8\n",
       "\n",
       "_C11: X2 + Y2 + Z11 = 6\n",
       "\n",
       "_C12: X2 + Y3 + Z12 = 5\n",
       "\n",
       "_C13: X3 + Y1 + Z20 = 6\n",
       "\n",
       "_C14: X3 + Y2 + Z21 = 8\n",
       "\n",
       "_C15: X3 + Y3 + Z22 = 7\n",
       "\n",
       "VARIABLES\n",
       "0 <= X1 Integer\n",
       "0 <= X2 Integer\n",
       "0 <= X3 Integer\n",
       "0 <= Y1 Integer\n",
       "0 <= Y2 Integer\n",
       "0 <= Y3 Integer\n",
       "0 <= Z00 Integer\n",
       "0 <= Z01 Integer\n",
       "0 <= Z02 Integer\n",
       "0 <= Z10 Integer\n",
       "0 <= Z11 Integer\n",
       "0 <= Z12 Integer\n",
       "0 <= Z20 Integer\n",
       "0 <= Z21 Integer\n",
       "0 <= Z22 Integer\n",
       "0 <= matrix1_max Integer\n",
       "0 <= matrix2_max Integer"
      ]
     },
     "execution_count": 119,
     "metadata": {},
     "output_type": "execute_result"
    }
   ],
   "source": [
    "matrix1_max = LpVariable(name=\"matrix1_max\",lowBound=0,cat='Integer')\n",
    "matrix2_max = LpVariable(name=\"matrix2_max\",lowBound=0,cat='Integer')\n",
    "for i in range(3):\n",
    "    prob += (matrix1_max >= matrix1[i])\n",
    "    prob += (matrix2_max >= matrix2[i])\n",
    "for i in range(3):\n",
    "    for j in range(3):\n",
    "        Zij = LpVariable(name = \"Z\" + str(i) + str(j), lowBound = 0, cat = 'Integer')\n",
    "        matrix3[i-1].append(Zij)\n",
    "        prob += (Zij == (OLED[i][j] - matrix1[i] - matrix2[j]))\n",
    "prob += matrix1_max + matrix2_max + lpSum(matrix3)\n",
    "prob"
   ]
  },
  {
   "cell_type": "code",
   "execution_count": 120,
   "metadata": {},
   "outputs": [
    {
     "name": "stdout",
     "output_type": "stream",
     "text": [
      "Minimum after solve 18.0\n"
     ]
    }
   ],
   "source": [
    "prob.solve()\n",
    "print(\"Minimum after solve\", prob.objective.value())"
   ]
  }
 ],
 "metadata": {
  "kernelspec": {
   "display_name": "Python 3",
   "language": "python",
   "name": "python3"
  },
  "language_info": {
   "codemirror_mode": {
    "name": "ipython",
    "version": 3
   },
   "file_extension": ".py",
   "mimetype": "text/x-python",
   "name": "python",
   "nbconvert_exporter": "python",
   "pygments_lexer": "ipython3",
   "version": "3.7.0"
  }
 },
 "nbformat": 4,
 "nbformat_minor": 2
}
