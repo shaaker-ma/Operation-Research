{
 "cells": [
  {
   "cell_type": "code",
   "execution_count": null,
   "metadata": {},
   "outputs": [
    {
     "name": "stdout",
     "output_type": "stream",
     "text": [
      "8 7 10\n",
      "8 6 5\n"
     ]
    }
   ],
   "source": [
    "from pulp import *\n",
    "\n",
    "input_ = []\n",
    "for i in range(3):\n",
    "    input_.append(input().split())\n",
    "\n",
    "# make integer\n",
    "for i in range(len(input_)):\n",
    "    for j in range(len(input_[i])):\n",
    "        input_[i][j] = int(input_[i][j])\n",
    "\n",
    "\n",
    "#creating model\n",
    "prob = LpProblem(\"LED\",LpMinimize)\n",
    "mat1 = []\n",
    "mat2 = []\n",
    "for i in range(3):\n",
    "    mat1.append(LpVariable(name=\"x1\"+str(i+1),lowBound=0,cat='Integer'))\n",
    "    mat2.append(LpVariable(name=\"x2\"+str(i+1),lowBound=0,cat='Integer'))\n",
    "    \n",
    "  \n",
    "mat1_max = LpVariable(name=\"max1\", lowBound=0,cat='Integer')\n",
    "mat2_max = LpVariable(name=\"max2\",lowBound=0,cat='Integer')\n",
    "for i in range(3):\n",
    "    prob += mat1_max >= mat1[i]\n",
    "    prob += mat2_max >= mat2[i]\n",
    "\n",
    "mat3 = []\n",
    "for i in range(3):\n",
    "    mat3.append([])\n",
    "    for j in range(3):\n",
    "        mat3[i].append(LpVariable(name=\"x3_\"+str(i+1)+str(j+1), lowBound=0,cat='Integer'))\n",
    "        prob += (input_[i][j]-mat1[i]-mat2[j])==mat3[i][j]\n",
    "        \n",
    "prob += mat1_max + mat2_max + lpSum(mat3) \n",
    "prob.solve()\n",
    "\n",
    "# print(prob.objective.value())"
   ]
  },
  {
   "cell_type": "code",
   "execution_count": null,
   "metadata": {},
   "outputs": [],
   "source": []
  }
 ],
 "metadata": {
  "kernelspec": {
   "display_name": "Python 3",
   "language": "python",
   "name": "python3"
  },
  "language_info": {
   "codemirror_mode": {
    "name": "ipython",
    "version": 3
   },
   "file_extension": ".py",
   "mimetype": "text/x-python",
   "name": "python",
   "nbconvert_exporter": "python",
   "pygments_lexer": "ipython3",
   "version": "3.7.0"
  }
 },
 "nbformat": 4,
 "nbformat_minor": 4
}
