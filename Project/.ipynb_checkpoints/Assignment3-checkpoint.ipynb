{
 "cells": [
  {
   "cell_type": "markdown",
   "metadata": {},
   "source": [
    "![title](img/Tehran.png) \n",
    "\n",
    "#   <font color='red'><center>OR Assignment 3<center></font> \n",
    "#   <font color='red'><center>Title: Graph Coloring<center></font> \n",
    "\n",
    "## <center>Teacher: Dr. Shokri<center>\n",
    "    \n",
    "### <center>Student Name: Mohammadali Shakerdargah<center>\n",
    "### <center>Student Number: 810196487<center>\n",
    "\n",
    "### <center>FALL 2020<center>"
   ]
  },
  {
   "cell_type": "markdown",
   "metadata": {},
   "source": [
    "### <font color='blue'>Purpose:</font>\n",
    "     Our objective is to find minimum number of colors from me! needed to color the vertices of 𝐺 so that no two \n",
    "     adjacent vertices share the same color\n",
    "\n",
    "### <font color='blue'>Abstract:</font>\n",
    "\n",
    "### Source of this project is also attached as Source_GraphColoring.pdf\n",
    "#### This source is an article by Stefano Gualandi, Federico Malucelli at Dipartimento di Elettronica ed Informazione, Politecnico di Milano, Piazza L. da Vinci 32, Milano\n",
    "    We consider two approaches for solving the classical minimum vertex coloring problem, that is the problem\n",
    "    of coloring the vertices of a graph so that adjacent vertices have di\u000b",
    "erent colors, minimizing the number\n",
    "    of used colors, namely Constraint Programming and Column Generation. Constraint Programming is able\n",
    "    to solve very e\u000eciently many of the benchmarks, but su\u000b",
    "ers from the lack of e\u000b",
    "ective bounding methods.\n",
    "    On the contrary, Column Generation provides tight lower bounds by solving the fractional vertex coloring\n",
    "    problem exploited in a Branch-and-Price algorithm, as already proposed in the literature. The Column\n",
    "    Generation approach is here enhanced by using Constraint Programming to solve the pricing subproblem\n",
    "    and to compute heuristic solutions. Moreover new techniques are introduced to improve the performance of\n",
    "    the Column Generation approach in solving both the linear relaxation and the integer problem. We report\n",
    "    extensive computational results applied to the benchmark instances: we are able to prove optimality of 11\n",
    "    new instances, and to improve the best known lower bounds on other 17 instances. Moreover we extend\n",
    "    the solution approaches to a generalization of the problem known as Minimum Vertex Graph Multicoloring\n",
    "    Problem where a given number of colors has to be assigned to each vertex.\n",
    "    \n",
    "### <font color='blue'>Sections</font>\n",
    "    \n",
    "    Section A: Graph Coloring\n",
    "        \n",
    "    Section B: Graph Coloring, an optimization problem or not and Modeling\n",
    "    \n",
    "    Section C: Solution & Code"
   ]
  },
  {
   "cell_type": "markdown",
   "metadata": {},
   "source": [
    "##  <font color='green'>Section A:</font>\n",
    "### Graph Coloring\n",
    "\n",
    "#### Source of this project is also attached  by Stefano Gualandi, Federico Malucelli at Dipartimento di Elettronica ed Informazione, Politecnico di Milano, Piazza L. da Vinci 32, Milano¶\n",
    "    \n",
    "\n",
    "    Given a graph G = (V;E) and an integer k, a k-coloring of G is a one-one mapping of vertices to colors, such\n",
    "    that adjacent vertices are assigned to different colors. The Minimum Graph Coloring Problem (Min-GCP)\n",
    "    consists in finding the minimum k such that a k-coloring exists. Such minimum k is known as the chromatic\n",
    "    number of G and is denoted by X(G), or simply by X. Min{GCP is NP-hard. The chromatic number is\n",
    "    bounded from below by the size of the maximum clique of G, known as the clique number !(G) which is\n",
    "    equal to X(G) when G is a perfect graph.\n",
    "    A formulation of Min{GCP based on Column Generation was introduced in Mehrotra and Trick (1996),\n",
    "    where the master subproblem is a set partitioning and the pricing subproblem is a maximum weighted\n",
    "    stable set problem. Column Generation-based Branch-and-Bound algorithms, known as Branch-and-Price,\n",
    "    are reputed, so far, the most efficient exact methods to solve Min{GCP}\n",
    "    \n",
    "    The chromatic number of a graph G is the smallest number of colors  needed to color the vertices of 𝐺 so that no \n",
    "    two adjacent vertices share the same color\n",
    "    \n",
    "    For Hexagonal it is six:\n",
    "\n",
    "![title](img/Hexagonal.png) \n",
    "    \n",
    "    There are other examples as well:\n",
    "\n",
    "![title](img/ExampleColoring.png) \n",
    "\n",
    "    \n"
   ]
  },
  {
   "cell_type": "markdown",
   "metadata": {},
   "source": [
    "##  <font color='green'>Section B:</font>\n",
    "### Graph Coloring, an Optimization problem and Modeling\n",
    "#### Source of this project is also attached by Stefano Gualandi, Federico Malucelli at Dipartimento di Elettronica ed Informazione, Politecnico di Milano, Piazza L. da Vinci 32, Milano¶\n",
    "\n",
    "#### Graph Coloring via Constraint Programming\n",
    "    Given a graph G = (V;E), let \u001f and \u001f denote a lower and upper bound for \u001f(G). Let K = f1; : : : ; \u001fg be\n",
    "    the set of available colors (assuming that colors map to natural numbers), and let xi 2 K be a \f",
    "nite domain\n",
    "    integer variable denoting the color assigned to vertex i 2 V . Let x0 be a \f",
    "nite domain integer variable\n",
    "    denoting the number of used colors, hence at the optimal solution x0 = \u001f(G). The CP model of Min{GCP\n",
    "    is as follows:\n",
    "    \n",
    "![title](img/Const1.png)     \n",
    "    \n",
    "    The goal is to find smallest number of colors  needed to color the vertices of 𝐺 so that no two adjacent vertices\n",
    "    share the same color\n",
    "\n",
    "    This problem can be formulated as an linear programming by replacing the objective with respect to above equation.\n",
    "    solver, and using three di\u000b",
    "erent methods for the pricing subproblems. The pricing\n",
    "    decision subproblem is solved with an implementation of model (14){(19) using Gecode 3.1, while the pricing\n",
    "    optimization subproblem is solved with Cliquer (Ostergard, 2002). On big and sparse instances, we have\n",
    "    also used the Qualex-MS algorithm (Busygin, 2006) for computing heuristic solutions. To compute the\n",
    "    initial set of stable sets S, we used the coloring heuristic part of the Boost Graph Library. The coloring\n",
    "    heuristic is executed a few times using di\u000b",
    "erent random vertex ordering, and all the classes of colors found\n",
    "    are stored in S. Note that before adding a class of colors to S, the corresponding stable set is increased to\n",
    "    a maximal one.\n",
    "    \n",
    "    "
   ]
  },
  {
   "cell_type": "markdown",
   "metadata": {},
   "source": [
    "##  <font color='green'>Section C:</font>\n",
    "### Solution & Code\n",
    "\n",
    "    We will use pulp library for this question"
   ]
  },
  {
   "cell_type": "code",
   "execution_count": 1,
   "metadata": {},
   "outputs": [],
   "source": [
    "# !pip install pulp\n",
    "import pulp as p \n",
    "from pulp import *"
   ]
  },
  {
   "cell_type": "markdown",
   "metadata": {},
   "source": [
    "    At first we would define the problem as a linear programming problem"
   ]
  },
  {
   "cell_type": "code",
   "execution_count": 2,
   "metadata": {},
   "outputs": [],
   "source": [
    "Lp_prob = p.LpProblem('Problem', p.LpMinimize)  "
   ]
  },
  {
   "cell_type": "markdown",
   "metadata": {},
   "source": [
    "    Now we will get numberOfVertex and numberOfEdges"
   ]
  },
  {
   "cell_type": "code",
   "execution_count": 3,
   "metadata": {},
   "outputs": [
    {
     "name": "stdout",
     "output_type": "stream",
     "text": [
      "4 3\n"
     ]
    }
   ],
   "source": [
    "numberOfVertex, numberOfEdges= list(map(int,input().split())) "
   ]
  },
  {
   "cell_type": "markdown",
   "metadata": {},
   "source": [
    "    Here we will Define variables"
   ]
  },
  {
   "cell_type": "code",
   "execution_count": 4,
   "metadata": {},
   "outputs": [],
   "source": [
    "# define Vars\n",
    "\n",
    "variable = []\n",
    "for i in range(numberOfVertex):\n",
    "    variable.append(p.LpVariable(\"x\" + str(i), lowBound = 0))"
   ]
  },
  {
   "cell_type": "markdown",
   "metadata": {},
   "source": [
    "    Here we will Define constrains and update Lp"
   ]
  },
  {
   "cell_type": "code",
   "execution_count": 5,
   "metadata": {},
   "outputs": [],
   "source": [
    "constrains= []\n",
    "for i in range(numberOfEdges):\n",
    "    First = \"constrains\" + str(i) + str(0)\n",
    "    Second = \"constrains\" + str(i) + str(1)\n",
    "    constrains.append([p.LpVariable(First, cat='Binary'), p.LpVariable(Second, cat='Binary')])\n",
    "lpMax =  p.LpVariable(\"lpMax\", lowBound = 0)   \n",
    "Lp_prob +=  lpMax"
   ]
  },
  {
   "cell_type": "markdown",
   "metadata": {},
   "source": [
    "    Here we will update Constraints and Variables for Problem: "
   ]
  },
  {
   "cell_type": "code",
   "execution_count": 6,
   "metadata": {},
   "outputs": [
    {
     "name": "stdout",
     "output_type": "stream",
     "text": [
      "0 1\n",
      "1 2\n",
      "1 3\n"
     ]
    }
   ],
   "source": [
    "for i in range(numberOfVertex):\n",
    "    Lp_prob += lpMax >= variable[i]\n",
    "for i in range(numberOfEdges):\n",
    "    a, b = input().split()\n",
    "    Lp_prob += variable[int(a)] - variable[int(b)]-( numberOfVertex * (1 - constrains[i][0])) <= -1\n",
    "    Lp_prob += variable[int(b)] - variable[int(a)] - ( numberOfVertex * (1 - constrains[i][1])) <= -1\n",
    "    Lp_prob += constrains[i][0] + constrains[i][1] >= 1"
   ]
  },
  {
   "cell_type": "markdown",
   "metadata": {},
   "source": [
    "    In the end we will use Lp_prob.solve() to get the solution of our problem"
   ]
  },
  {
   "cell_type": "code",
   "execution_count": 7,
   "metadata": {},
   "outputs": [
    {
     "name": "stdout",
     "output_type": "stream",
     "text": [
      "Optimal\n",
      "Ans:  2.0\n"
     ]
    }
   ],
   "source": [
    "status = Lp_prob.solve()   \n",
    "print(p.LpStatus[Lp_prob.status])\n",
    "print(\"Ans: \", p.value(Lp_prob.objective) + 1)"
   ]
  },
  {
   "cell_type": "markdown",
   "metadata": {},
   "source": [
    "    The result is just as wanted\n",
    "![title](img/output.png) "
   ]
  }
 ],
 "metadata": {
  "kernelspec": {
   "display_name": "Python 3",
   "language": "python",
   "name": "python3"
  },
  "language_info": {
   "codemirror_mode": {
    "name": "ipython",
    "version": 3
   },
   "file_extension": ".py",
   "mimetype": "text/x-python",
   "name": "python",
   "nbconvert_exporter": "python",
   "pygments_lexer": "ipython3",
   "version": "3.7.0"
  }
 },
 "nbformat": 4,
 "nbformat_minor": 2
}
